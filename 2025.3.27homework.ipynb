{
 "cells": [
  {
   "cell_type": "code",
   "execution_count": 1,
   "metadata": {},
   "outputs": [
    {
     "name": "stdout",
     "output_type": "stream",
     "text": [
      "3.10.7 (tags/v3.10.7:6cc6b13, Sep  5 2022, 14:08:36) [MSC v.1933 64 bit (AMD64)]\n",
      "c:\\Users\\Hayden Chen\\AppData\\Local\\Programs\\Python\\Python310\\python.exe\n"
     ]
    },
    {
     "name": "stderr",
     "output_type": "stream",
     "text": [
      "ERROR: unknown command \"installC:\\\\Users\\\\Hayden Chen\\\\.spyder-py3\\\\fju 113-2\\\\ta_lib-0.6.3-cp310-cp310-win_amd64.whl\"\n",
      "\n"
     ]
    },
    {
     "name": "stdout",
     "output_type": "stream",
     "text": [
      "Requirement already satisfied: ta-lib in c:\\users\\hayden chen\\appdata\\local\\programs\\python\\python310\\lib\\site-packages (0.6.3)\n",
      "Requirement already satisfied: numpy in c:\\users\\hayden chen\\appdata\\local\\programs\\python\\python310\\lib\\site-packages (from ta-lib) (2.2.3)\n",
      "Requirement already satisfied: setuptools in c:\\users\\hayden chen\\appdata\\local\\programs\\python\\python310\\lib\\site-packages (from ta-lib) (63.2.0)\n"
     ]
    },
    {
     "name": "stderr",
     "output_type": "stream",
     "text": [
      "\n",
      "[notice] A new release of pip available: 22.2.2 -> 25.0.1\n",
      "[notice] To update, run: python.exe -m pip install --upgrade pip\n"
     ]
    }
   ],
   "source": [
    "import sys\n",
    "print(sys.version)\n",
    "print(sys.executable)\n",
    "\n",
    "!pip install\"C:\\\\Users\\\\Hayden Chen\\\\.spyder-py3\\\\fju 113-2\\\\ta_lib-0.6.3-cp310-cp310-win_amd64.whl\"\n",
    "!pip install ta-lib\n",
    "import talib"
   ]
  }
 ],
 "metadata": {
  "kernelspec": {
   "display_name": "Python 3",
   "language": "python",
   "name": "python3"
  },
  "language_info": {
   "codemirror_mode": {
    "name": "ipython",
    "version": 3
   },
   "file_extension": ".py",
   "mimetype": "text/x-python",
   "name": "python",
   "nbconvert_exporter": "python",
   "pygments_lexer": "ipython3",
   "version": "3.10.7"
  }
 },
 "nbformat": 4,
 "nbformat_minor": 2
}
