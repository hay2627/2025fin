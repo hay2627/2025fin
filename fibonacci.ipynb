{
 "cells": [
  {
   "cell_type": "code",
   "execution_count": 1,
   "metadata": {},
   "outputs": [
    {
     "name": "stdout",
     "output_type": "stream",
     "text": [
      "Fibonacci數列: [1, 1, 2, 3, 5]\n",
      "前後兩數字比值: [1.0, 0.5, 0.667, 0.6]\n"
     ]
    }
   ],
   "source": [
    "def fibonacci(n):\n",
    "    fib_seq = [1, 1]\n",
    "    for i in range(2, n):\n",
    "        fib_seq.append(fib_seq[-1] + fib_seq[-2])\n",
    "    fib_seq = fib_seq[:n]\n",
    "    ratios = []\n",
    "    for i in range(n - 1):\n",
    "        ratios.append(round(fib_seq[i] / fib_seq[i+1], 3))\n",
    "    return fib_seq, ratios\n",
    "\n",
    "fib_seq, ratios = fibonacci(5)\n",
    "print('Fibonacci數列:', fib_seq)\n",
    "print('前後兩數字比值:', ratios)\n"
   ]
  }
 ],
 "metadata": {
  "kernelspec": {
   "display_name": "Python 3",
   "language": "python",
   "name": "python3"
  },
  "language_info": {
   "codemirror_mode": {
    "name": "ipython",
    "version": 3
   },
   "file_extension": ".py",
   "mimetype": "text/x-python",
   "name": "python",
   "nbconvert_exporter": "python",
   "pygments_lexer": "ipython3",
   "version": "3.10.7"
  }
 },
 "nbformat": 4,
 "nbformat_minor": 2
}
